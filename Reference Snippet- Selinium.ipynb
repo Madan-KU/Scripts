{
 "cells": [
  {
   "attachments": {},
   "cell_type": "markdown",
   "metadata": {},
   "source": [
    "### Selenium Reference Snippet"
   ]
  },
  {
   "cell_type": "code",
   "execution_count": null,
   "metadata": {},
   "outputs": [],
   "source": [
    "import time\n",
    "from selenium import webdriver\n",
    "from selenium.webdriver.common.action_chains import ActionChains\n",
    "from selenium.webdriver.common.by import By\n",
    "from selenium.webdriver.support.ui import WebDriverWait\n",
    "from selenium.webdriver.support import expected_conditions as EC\n",
    "\n",
    "options = webdriver.ChromeOptions()\n",
    "options.add_argument('--start-maximized')\n",
    "driver = webdriver.Chrome(options=options)\n",
    "driver.get('Website')\n",
    "\n",
    "time.sleep(2)\n",
    "\n",
    "sign_in_button = driver.find_element(by='class name', value='nav__button-secondary')\n",
    "actions = ActionChains(driver)\n",
    "actions.move_to_element(sign_in_button).click().perform()\n",
    "\n",
    "time.sleep(2)\n",
    "\n",
    "email_field = driver.find_element(by='id', value='username')\n",
    "email_field.send_keys('Email ID')\n",
    "password_field = driver.find_element(by='id', value='password')\n",
    "password_field.send_keys('Password')\n",
    "sign_in_button = driver.find_element(by='class name', value='btn__primary--large')\n",
    "actions = ActionChains(driver)\n",
    "actions.move_to_element(sign_in_button).click().perform()\n",
    "time.sleep(5)\n",
    "\n",
    "\"\"\"\n",
    "# Dummy code block used as a placeholder for future code snippets\n",
    "\n",
    "# End of dummy code block\n",
    "\"\"\"\n",
    "driver.quit()\n"
   ]
  }
 ],
 "metadata": {
  "kernelspec": {
   "display_name": "Data",
   "language": "python",
   "name": "python3"
  },
  "language_info": {
   "codemirror_mode": {
    "name": "ipython",
    "version": 3
   },
   "file_extension": ".py",
   "mimetype": "text/x-python",
   "name": "python",
   "nbconvert_exporter": "python",
   "pygments_lexer": "ipython3",
   "version": "3.9.16"
  },
  "orig_nbformat": 4
 },
 "nbformat": 4,
 "nbformat_minor": 2
}
